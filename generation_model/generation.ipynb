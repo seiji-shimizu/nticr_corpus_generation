{
 "cells": [
  {
   "cell_type": "code",
   "execution_count": 18,
   "metadata": {},
   "outputs": [],
   "source": [
    "import torch\n",
    "from torch.utils.data import Dataset, DataLoader\n",
    "from transformers import T5ForConditionalGeneration, T5Tokenizer\n",
    "from generation_dataset import Tweet_SympDataset\n",
    "import textwrap\n",
    "import argparse\n",
    "#from prompt_design import design0\n",
    "import pandas as pd\n",
    "from os import listdir"
   ]
  },
  {
   "cell_type": "code",
   "execution_count": 19,
   "metadata": {},
   "outputs": [],
   "source": [
    "check_point_dir = 'generation_checkpoint1/'\n",
    "PATH =  check_point_dir + listdir(check_point_dir)[0]\n",
    "generation_result = 'generated_text/generation_result1.pickle'\n"
   ]
  },
  {
   "cell_type": "code",
   "execution_count": 20,
   "metadata": {},
   "outputs": [],
   "source": [
    "USE_GPU = True\n",
    "args_dict = dict(\n",
    "    data_dir='',  # データセットのディレクトリ\n",
    "    model_name_or_path=\"sonoisa/t5-base-japanese\",\n",
    "    tokenizer_name_or_path=\"sonoisa/t5-base-japanese\",\n",
    "\n",
    "    learning_rate=3e-4,\n",
    "    weight_decay=0.0,\n",
    "    adam_epsilon=1e-8,\n",
    "    warmup_steps=0,\n",
    "    gradient_accumulation_steps=1,\n",
    "\n",
    "    max_input_length=512,\n",
    "    max_target_length=512,\n",
    "    train_batch_size=8,\n",
    "    eval_batch_size=8,\n",
    "    num_train_epochs=24,\n",
    "    n_gpu=1 if USE_GPU else 0,\n",
    "    early_stop_callback=False,\n",
    "    fp_16=False,\n",
    "    opt_level='O1',\n",
    "    max_grad_norm=1.0\n",
    ")\n",
    "\n",
    "args = argparse.Namespace(**args_dict)"
   ]
  },
  {
   "cell_type": "code",
   "execution_count": 21,
   "metadata": {},
   "outputs": [],
   "source": [
    "PRETRAINED_MODEL_DIR = \"sonoisa/t5-base-japanese\"\n",
    "from generation_experiment import T5FineTuner\n",
    "model_tuner = T5FineTuner.load_from_checkpoint(checkpoint_path=PATH,name_space =args)\n",
    "trained_model = model_tuner.model\n",
    "tokenizer = model_tuner.tokenizer"
   ]
  },
  {
   "cell_type": "code",
   "execution_count": 22,
   "metadata": {},
   "outputs": [
    {
     "name": "stdout",
     "output_type": "stream",
     "text": [
      "cpu\n"
     ]
    }
   ],
   "source": [
    "print(trained_model.device)"
   ]
  },
  {
   "cell_type": "code",
   "execution_count": 23,
   "metadata": {},
   "outputs": [],
   "source": [
    "MAX_SOURCE_LENGTH = 50  # 入力される記事本文の最大トークン数\n",
    "MAX_TARGET_LENGTH = 150  # 生成されるタイトルの最大トークン数"
   ]
  },
  {
   "cell_type": "code",
   "execution_count": 24,
   "metadata": {},
   "outputs": [],
   "source": [
    "# https://github.com/neologd/mecab-ipadic-neologd/wiki/Regexp.ja から引用・一部改変\n",
    "from __future__ import unicode_literals\n",
    "import re\n",
    "import unicodedata\n",
    "\n",
    "def unicode_normalize(cls, s):\n",
    "    pt = re.compile('([{}]+)'.format(cls))\n",
    "\n",
    "    def norm(c):\n",
    "        return unicodedata.normalize('NFKC', c) if pt.match(c) else c\n",
    "\n",
    "    s = ''.join(norm(x) for x in re.split(pt, s))\n",
    "    s = re.sub('－', '-', s)\n",
    "    return s\n",
    "\n",
    "def remove_extra_spaces(s):\n",
    "    s = re.sub('[ 　]+', ' ', s)\n",
    "    blocks = ''.join(('\\u4E00-\\u9FFF',  # CJK UNIFIED IDEOGRAPHS\n",
    "                      '\\u3040-\\u309F',  # HIRAGANA\n",
    "                      '\\u30A0-\\u30FF',  # KATAKANA\n",
    "                      '\\u3000-\\u303F',  # CJK SYMBOLS AND PUNCTUATION\n",
    "                      '\\uFF00-\\uFFEF'   # HALFWIDTH AND FULLWIDTH FORMS\n",
    "                      ))\n",
    "    basic_latin = '\\u0000-\\u007F'\n",
    "\n",
    "    def remove_space_between(cls1, cls2, s):\n",
    "        p = re.compile('([{}]) ([{}])'.format(cls1, cls2))\n",
    "        while p.search(s):\n",
    "            s = p.sub(r'\\1\\2', s)\n",
    "        return s\n",
    "\n",
    "    s = remove_space_between(blocks, blocks, s)\n",
    "    s = remove_space_between(blocks, basic_latin, s)\n",
    "    s = remove_space_between(basic_latin, blocks, s)\n",
    "    return s\n",
    "\n",
    "def normalize_neologd(s):\n",
    "    s = s.strip()\n",
    "    s = unicode_normalize('０-９Ａ-Ｚａ-ｚ｡-ﾟ', s)\n",
    "\n",
    "    def maketrans(f, t):\n",
    "        return {ord(x): ord(y) for x, y in zip(f, t)}\n",
    "\n",
    "    s = re.sub('[˗֊‐‑‒–⁃⁻₋−]+', '-', s)  # normalize hyphens\n",
    "    s = re.sub('[﹣－ｰ—―─━ー]+', 'ー', s)  # normalize choonpus\n",
    "    s = re.sub('[~∼∾〜〰～]+', '〜', s)  # normalize tildes (modified by Isao Sonobe)\n",
    "    s = s.translate(\n",
    "        maketrans('!\"#$%&\\'()*+,-./:;<=>?@[¥]^_`{|}~｡､･｢｣',\n",
    "              '！”＃＄％＆’（）＊＋，－．／：；＜＝＞？＠［￥］＾＿｀｛｜｝〜。、・「」'))\n",
    "\n",
    "    s = remove_extra_spaces(s)\n",
    "    s = unicode_normalize('！”＃＄％＆’（）＊＋，－．／：；＜＞？＠［￥］＾＿｀｛｜｝〜', s)  # keep ＝,・,「,」\n",
    "    s = re.sub('[’]', '\\'', s)\n",
    "    s = re.sub('[”]', '\"', s)\n",
    "    return s\n",
    "    \n",
    "import math\n",
    "def normalize_text(text):\n",
    "    assert \"\\n\" not in text and \"\\r\" not in text\n",
    "    text = text.replace(\"\\t\", \" \")\n",
    "    text = text.strip()\n",
    "    text = normalize_neologd(text)\n",
    "    text = text.lower()\n",
    "    return text\n",
    "\n",
    "def preprocess_answer(text):\n",
    "    return normalize_text(text.replace(\"\\n\", \"\"))\n"
   ]
  },
  {
   "cell_type": "code",
   "execution_count": 37,
   "metadata": {},
   "outputs": [],
   "source": [
    "def generate_bodies(num,prompt):\n",
    "    inputs = [preprocess_answer(prompt)]\n",
    "    batch = tokenizer.batch_encode_plus(\n",
    "    inputs, max_length=MAX_SOURCE_LENGTH, truncation=True, \n",
    "    padding=\"longest\", return_tensors=\"pt\")\n",
    "    input_ids = batch['input_ids']\n",
    "    input_mask = batch['attention_mask']\n",
    "    outputs = trained_model.generate(\n",
    "        input_ids=input_ids, attention_mask=input_mask, \n",
    "        max_length=MAX_TARGET_LENGTH,\n",
    "        temperature=1.0,  # 生成にランダム性を入れる温度パラメータ\n",
    "        #num_beams= num,  # ビームサーチの探索幅\n",
    "        #diversity_penalty=0.5,  # 生成結果の多様性を生み出すためのペナルティパラメータ\n",
    "        #This value is subtracted from a beam’s score if it generates a token same as any beam from other group at a particular time. Note that diversity_penalty is only effective if group beam search is enabled.\n",
    "        #num_beam_groups= num,  # ビームサーチのグループ\n",
    "        do_sample=True, \n",
    "        #top_k=30,\n",
    "        num_return_sequences= num,  # 生成する文の数\n",
    "        repetition_penalty=8.0,   # 同じ文の繰り返し（モード崩壊）へのペナルティ\n",
    "    )\n",
    "\n",
    "    # 生成されたトークン列を文字列に変換する\n",
    "    generated_texts = [tokenizer.decode(ids, skip_special_tokens=True, \n",
    "                                     clean_up_tokenization_spaces=False) \n",
    "                    for ids in outputs]\n",
    "    return generated_texts"
   ]
  },
  {
   "cell_type": "code",
   "execution_count": 39,
   "metadata": {},
   "outputs": [
    {
     "data": {
      "text/plain": [
       "[\"'<user_name> ありがとうございます\\\\nステロイドの副作用で食欲が増して、お腹も空いてきました'\",\n",
       " \"'<user_name> 私もステロイドの副作用で不眠症になりました\\\\u200d'\",\n",
       " \"'<user_name> 私もアトピー性皮膚炎です\\\\nステロイド塗るとすぐ治りますよ!'\",\n",
       " \"'<user_name> ありがとうございます\\\\u200d♂\\\\nステロイドの副作用で骨粗症になりやすいって言われたんですけど、そんなに酷くはないみたいです!'\",\n",
       " \"'<user_name> ありがとうございます\\\\nステロイドの点滴で少し落ち着きましたが、まだ血糖値が下がらないです...'\",\n",
       " \"'<user_name> 私も麻疹が酷くて、皮膚科でステロイド剤を処方してもらいました。\\\\n早く治りますように!'\",\n",
       " \"'<user_name> 私もアトピー持ちでした。\\\\nステロイド使ってたので、皮膚科に行けば良かったです'\",\n",
       " \"'<user_name> ありがとうございます\\\\u200d♂\\\\nステロイドの副作用で骨粗症になりやすいって言われてたんですけど、先生に相談してみようと思います。'\",\n",
       " \"'<user_name> 私も喘息のステロイド吸入薬使ってます\\\\nめちゃくちゃ痛いですよね...'\",\n",
       " \"'<user_name> ありがとうございます\\\\u200d♂\\\\nステロイドが効いてるみたいで、だいぶ楽になりました!'\",\n",
       " \"'<user_name> ステロイドは免疫力を低下させる作用もあるので、風邪やインフルエンザにかかっても抗ウイルス薬を処方してくれます。\\\\nコロナが流行り始めて2ヶ月ほど経ちましたが、まだ咳はまだ残っています'\",\n",
       " \"'<user_name> おはよーございます\\\\u200d♂\\\\nステロイドの副作用で顔がパンパンに浮腫んでるんですけど、そのせいかめちゃくちゃ眠いです(&gt;_&lt;)'\",\n",
       " \"'<user_name> 私もステロイドの副作用で不眠症になりました\\\\n今は薬が効いてる感じです(^-^)/'\",\n",
       " \"'ステロイドを塗ると皮膚が黒くなるの?\\\\n皮膚が色素沈着を起こすのは炎症で皮膚が赤黒くなるから、そうなる前に短期で皮膚を治療すれば色素沈着は起こりにくいんだって。\\\\nつまりステロイドで色素沈着になるんじゃなくて炎症が長引くとなるってこと。'\",\n",
       " \"'<user_name> ありがとうございます\\\\nステロイドの副作用で骨粗症がひどくなりました。'\",\n",
       " \"'<user_name> ありがとうございます\\\\nステロイドと抗生剤を処方してもらいました。'\",\n",
       " \"'#お肌ケア#ステロイド内服#サルコイドーシス#ぶどう膜炎#ニキビ#ステロイド副作用#ステロイドニキビ\\\\nステロイド内服中の副作用によるステロイドニキビにも負けないお肌ケア\\\\n<url>。'\",\n",
       " \"'<user_name> そうなんですね\\\\n私もステロイドを服用していたので、副作用が少しでも和らぐと良いなぁと思っています。'\",\n",
       " \"'<user_name> そうなんですね\\\\n私もステロイド服用してるので、糖尿病になりやすいんですよね。'\",\n",
       " \"'<user_name> 私もアトピー性皮膚炎です。\\\\nステロイドを塗るとみが治まるのですが、その副作用で手足の甲に湿疹が出てしまいます。\\\\nお大事になさってください!'\",\n",
       " \"'<user_name> ありがとうございます\\\\nステロイドの副作用で不眠症なんですけど、今日は少し落ち着きました!'\",\n",
       " \"'<user_name> ありがとうございます\\\\u200d\\\\nステロイドの副作用で食欲が凄くて、今はお腹いっぱいです'\",\n",
       " \"'<user_name> ありがとうございます\\\\nステロイドの副作用で食欲増進と体重増加が酷いです'\",\n",
       " \"'<user_name> そうだったんですね\\\\nステロイドの副作用で骨粗症になりやすいらしいです。'\",\n",
       " \"'<user_name> はじめまして。\\\\n私も突発性難聴で入院しましたが、ステロイドの点滴を打って回復しました。お大事になさってくださいね。'\",\n",
       " \"'<user_name> ありがとうございます\\\\nステロイドが効いてるのか、痛みは和らいでいます。'\",\n",
       " \"'<user_name> ステロイドの副作用で骨粗症になりやすいから気をつけないとね'\",\n",
       " \"'<user_name> ステロイドの副作用で骨粗症になりやすいって言われてたから、それも関係あるんかな?'\",\n",
       " \"'<user_name> ありがとうございます\\\\nステロイドの副作用で食欲が増すんですよね。'\",\n",
       " \"'<user_name> ありがとうございます\\\\nステロイドの副作用で血糖値が上がっているみたいです。'\",\n",
       " \"'<user_name> ありがとうございます\\\\u200d♂\\\\nステロイドの副作用で食欲が増進して、太りやすくなってしまいました'\",\n",
       " \"'<user_name> ありがとうございます\\\\nステロイドの副作用で顔がパンパンに浮腫んでるんですけど、それも関係あるんでしょうか?'\",\n",
       " \"'<user_name> ありがとうございます\\\\nステロイドが効いてきてるのか、痛みはだいぶ和らいできました!'\",\n",
       " \"'<user_name> ありがとうございます\\\\u200d♂\\\\nステロイドの副作用で食欲亢進と胃痛が酷くてお腹も空いてしまいました'\",\n",
       " \"'<user_name> ステロイドの副作用で\\\\n骨粗症になりました(&gt;_&lt;)'\",\n",
       " \"'<user_name> ありがとうございます\\\\nステロイドの副作用で食欲が増してしまって、昨日は吐き気止めを点滴してきました。'\",\n",
       " \"'<user_name> ありがとうございます\\\\n昨日はステロイドの点滴をしてもらいましたが、今朝はお腹が緩くなってきました'\",\n",
       " \"'<user_name> そうですよね。\\\\n私もステロイド飲んでるので、骨粗症に気をつけなきゃいけないんですけどね(&gt;_&lt;)'\",\n",
       " \"'<user_name> ありがとうございます\\\\nステロイドの副作用で食欲が増進するみたいです'\",\n",
       " \"'<user_name> ありがとうございます\\\\nステロイドが効いてるみたいで、痛みはだいぶ楽になりました!'\",\n",
       " \"'<user_name> ありがとうございます\\\\nステロイドの副作用で骨粗症になりました。'\",\n",
       " \"'<user_name> おはようございます\\\\nステロイドの副作用で食欲が増進して太りやすいみたいです'\",\n",
       " \"'<user_name> ありがとうございます\\\\nステロイドの副作用で骨粗症になりました。'\",\n",
       " \"'<user_name> ありがとうございます\\\\nステロイドの点滴でだいぶ楽になりました!'\",\n",
       " \"'<user_name> 私も喘息持ちで、毎日ステロイド吸入してます\\\\u200d'\",\n",
       " \"'<user_name> ありがとうございます\\\\nステロイドの副作用で、食欲亢進と満腹感が凄いです'\",\n",
       " \"'<user_name> ステロイドの副作用で、食欲が増すみたいです。\\\\nありがとうございます'\",\n",
       " \"'<user_name> ありがとうございます\\\\nステロイドの副作用で骨粗症になりました。'\",\n",
       " \"'<user_name> ステロイドの副作用で食欲増進があるんですね'\",\n",
       " \"'<user_name> ありがとうございます\\\\nステロイドのせいか、食欲旺盛です!'\",\n",
       " \"'<user_name> ありがとうございます\\\\nステロイドの副作用で食欲亢進が凄くて、お腹も空いてきました。'\",\n",
       " \"'<user_name> ありがとうございます\\\\nステロイドが効いてるのか、痛みはだいぶマシになりました!'\",\n",
       " \"'<user_name> ありがとうございます\\\\nステロイドの副作用で骨粗症になりました。'\",\n",
       " \"'<user_name> ありがとうございます\\\\u200d♂\\\\nステロイドを飲んでいるので、免疫力が落ちているかも知れませんね(&gt;_&lt;)'\",\n",
       " \"'<user_name> ありがとうございます\\\\nステロイドが効いたみたいで、昨日は少し楽になりましたよ。'\",\n",
       " \"'<user_name> ありがとうございます。\\\\nステロイドの副作用で血糖値が上がってしまい、お腹を壊してしまいました'\",\n",
       " \"'【成人の慢性乾性咳】\\\\n咳喘息 →気管支拡張薬、吸入ステロイドで改善\\\\n感染後咳 →先行感染(発熱)あり\\\\n胃食道逆流症 →胸やけ\\\\n副鼻腔気管支症候群 →、副鼻腔炎'\",\n",
       " \"'<user_name> お疲れ様でした\\\\nステロイドの副作用は辛いですよね...私も今月初めから食欲が落ちてたんですけど、1日3回を2週間に一度にしてみたら少しずつ減ってきました!'\",\n",
       " \"'<user_name> ありがとうございます\\\\nステロイドの副作用で食欲増進が酷くて、お腹も空いてしまいました'\",\n",
       " \"'<user_name> ありがとうございます\\\\u200d♂\\\\nステロイドで免疫力下がってるのかなぁ?'\",\n",
       " \"'<user_name> お大事になさってください。\\\\n私もステロイドを服用してるので、副作用が怖くて...'\",\n",
       " \"'<user_name> 外から失礼します。\\\\n私も花粉症でステロイドの点鼻薬を処方されました!'\",\n",
       " \"'<user_name> 私も、アトピー性皮膚炎でステロイド使ってます'\",\n",
       " \"'<user_name> ステロイドの副作用で不眠症になる人がいるそうです。\\\\n私も睡眠薬飲んでます'\",\n",
       " \"'<user_name> ステロイドの副作用で血糖値が上がるみたいです\\\\nありがとうございます'\",\n",
       " \"'<user_name> おはよー\\\\nステロイドの副作用で不眠症になってるから、寝不足とストレスが重なったのかも?'\",\n",
       " \"'<user_name> ステロイドの副作用で血糖値が上がったり、浮腫みやすくなったりするんですよ'\",\n",
       " \"'<user_name> ありがとうございます\\\\nステロイドは1日10mgからスタートして、徐々に減量中です。'\",\n",
       " \"'<user_name> ありがとうございます\\\\u200d♂\\\\nステロイド飲んでるので、食欲増進作用があるみたいです。'\",\n",
       " \"'<user_name> ありがとうございます\\\\nステロイドが効いてるみたいで、痛みは少しマシになってきました!'\",\n",
       " \"'<user_name> 私も、アトピー性皮膚炎でステロイド使ってます。\\\\nお大事になさってください'\",\n",
       " \"'<user_name> 私もステロイドの副作用で骨粗症になりました。'\",\n",
       " \"'<user_name> ありがとうございます\\\\nステロイドの副作用で骨粗症になりやすいみたいです。'\",\n",
       " \"'<user_name> ステロイドを服用してるので、免疫力が低下しているのかも知れませんね。'\",\n",
       " \"'<user_name> 外から失礼します。\\\\n私も喘息持ちで、ステロイド吸入を毎日してるので、副作用は怖いですよね...(&gt;_&lt;)'\",\n",
       " \"'<user_name> ステロイドの副作用で食欲増進って言われたよ\\\\nお腹空いたからご飯に混ぜてみたら、少し食べてくれました'\",\n",
       " \"'<user_name> こんにちは。\\\\n私もステロイドの副作用で食欲亢進してます'\",\n",
       " \"'<user_name> ありがとうございます\\\\nステロイドの副作用で食欲亢進あるみたいです。'\",\n",
       " \"'<user_name> おはよーございます\\\\u200d♂\\\\nステロイドの副作用で不眠症が酷くて辛いです(&gt;_&lt;)'\",\n",
       " \"'<user_name> お疲れ様でした\\\\n私もステロイド飲んでるので、骨粗症が心配です'\",\n",
       " \"'ステロイド\\\\n\\\\n野獣先輩のその身体は凄まじい念の使い手と思わせるが実はステロイドで固めた偽りの肉体という説がある。彼はこの強化系ような肉体を偽り、相手に心理戦を仕掛けているのではないだろうかと言われている'\",\n",
       " \"'<user_name> ありがとうございます\\\\nステロイドが効いてるみたいで、痛みはだいぶ楽になりました!'\",\n",
       " \"'ステロイド系の塗り薬は免疫を抑制して、痛みを和らげる働きがあるんだよ!けど細菌の繁殖を抑えることは出来ないから、まず殺菌成分入りのうがい薬や洗口液でうがいしてから使用しようね。'\",\n",
       " \"'<user_name> ステロイドの副作用で顔が浮腫んでるんですか?\\\\n私もお腹に湿疹出来てます'\",\n",
       " \"'<user_name> ステロイドの副作用で血糖値が上がってるみたいです。\\\\n今は落ち着いてます'\",\n",
       " \"'<user_name> ステロイドの副作用で食欲増進あるらしいですよ\\\\nありがとうございます'\",\n",
       " \"'<user_name> 私もアトピー性皮膚炎で、ステロイド剤を塗ってます'\",\n",
       " \"'<user_name> 私も花粉症で目がくてたまらなくて、抗ヒスタミン薬とステロイド点鼻薬使ってます。'\",\n",
       " \"'<user_name> 私も麻疹で皮膚科行ったらステロイドの塗り薬処方されました。\\\\nお大事になさってくださいね!'\",\n",
       " \"'<user_name> 私もステロイドの副作用で麻疹が酷いです。\\\\nお大事になさってください!'\",\n",
       " \"'<user_name> ステロイドって凄いですよね\\\\n私も喘息持ちなので、吸入薬は手放せません。'\",\n",
       " \"'<user_name> ありがとうございます\\\\n今はステロイドを服用してるので、副作用が怖いです。'\",\n",
       " \"'<user_name> お疲れ様でした\\\\nステロイドの副作用は辛いですよね。私も薬を飲むと食欲が増し、便秘になるんですけどね(笑)'\",\n",
       " \"'【成人の慢性乾性咳】\\\\n咳喘息 →気管支拡張薬、吸入ステロイドで改善\\\\n感染後咳 →先行感染(発熱)あり\\\\n胃食道逆流症 →胸やけ\\\\n副鼻腔気管支症候群 →、副鼻腔炎'\",\n",
       " \"'<user_name> ありがとうございます\\\\nステロイドの副作用で骨粗症になりました。'\",\n",
       " \"'<user_name> 私も咳喘息持ちです。\\\\nステロイド吸入してるので治りは早いんですが、なかなか良くなりません'\",\n",
       " \"'ステロイドを塗ると皮膚が黒くなるの?\\\\n皮膚が色素沈着を起こすのは炎症で皮膚が赤黒くなるから、そうなる前に短期で皮膚を治療すれば色素沈着は起こりにくいんだって。\\\\nつまりステロイドで色素沈着になるんじゃなくて炎症が長引くとなるってこと。'\",\n",
       " \"'<user_name> 私もステロイドと免疫抑制剤を服用してるので、感染症にかかりやすくなりますね。'\",\n",
       " \"'<user_name> 外から失礼します。\\\\n私もステロイドの副作用で食欲増進が酷くて、体重は増えたんですけど太りました(&gt;_&lt;)'\",\n",
       " \"'<user_name> 私も手湿疹が酷くて、ステロイド軟膏を塗ってました'\"]"
      ]
     },
     "execution_count": 39,
     "metadata": {},
     "output_type": "execute_result"
    }
   ],
   "source": [
    "prompt = 'ステロイド使用のTweetは？<extra_id_0>'\n",
    "generate_bodies(100,prompt)"
   ]
  },
  {
   "cell_type": "code",
   "execution_count": null,
   "metadata": {},
   "outputs": [],
   "source": [
    "'<user_name> お疲れ様です\\\\nステロイドの副作用で食欲増進があるみたいですね。'\",\n",
    " \"'<user_name> ありがとうございます\\\\u200d♂\\\\nステロイドの副作用で骨粗症になりやすいみたいです。'\",\n",
    " \"'<user_name> ありがとうございます\\\\u200d♂\\\\nステロイドが効いてるみたいで、少し楽になってきました!'\",\n",
    " \"'<user_name> おはよーございます\\\\u200d\\\\nステロイドの副作用で食欲亢進と満腹感が凄くて、食べる量も減ってるんですけどね(&gt;_&lt;)'\",\n",
    " \"'<user_name> お大事になさってくださいね。\\\\n私もアトピー性皮膚炎なので、ステロイドの塗り薬を処方してもらいました。'\",\n",
    " \"'<user_name> ステロイドの副作用で骨粗症になりました。'\",\n",
    " \"'<user_name> ありがとうございます\\\\u200d♂\\\\nステロイドの副作用で骨粗症になってしまって、薬を飲んでるんですが、今朝はお腹に力が入らなくて倒れてました'\""
   ]
  },
  {
   "cell_type": "code",
   "execution_count": 29,
   "metadata": {},
   "outputs": [
    {
     "data": {
      "text/plain": [
       "47"
      ]
     },
     "execution_count": 29,
     "metadata": {},
     "output_type": "execute_result"
    }
   ],
   "source": [
    "len(tokenizer.encode(\"'アトピー性皮膚炎の方はご注意を!\\\\u3000グリチルリチン酸ジカリウム(2)配合薬用化粧水で脱ステロイドすると強い副作用/副反応のリバウンドが! <url>'\"))"
   ]
  },
  {
   "cell_type": "code",
   "execution_count": null,
   "metadata": {},
   "outputs": [],
   "source": [
    "\n",
    "# 推論モード設定\n",
    "trained_model.eval()\n",
    "\n",
    "all_bodies =[]\n",
    "all_index = []\n",
    "\n",
    "# 生成処理を行う\n",
    "for s in ss:\n",
    "    index = s[0]\n",
    "    num = s[1][0]\n",
    "    symp_text = s[1][1]\n",
    "    additional = round(num*0.35)\n",
    "    num += additional\n",
    "    bodies = generate_bodies(num,symp_text)\n",
    "    for body in bodies:\n",
    "        all_index.append(index)\n",
    "        all_bodies.append(body)"
   ]
  },
  {
   "cell_type": "code",
   "execution_count": null,
   "metadata": {},
   "outputs": [],
   "source": [
    "#生成された文とidのdf\n",
    "body_index_df2 = pd.DataFrame({'generated_tweet':all_bodies,'id':all_index})"
   ]
  },
  {
   "cell_type": "code",
   "execution_count": null,
   "metadata": {},
   "outputs": [],
   "source": [
    "train_file = r'../MedWeb_TestCollection/NTCIR-13_MedWeb_ja_training.xlsx'\n",
    "test_file = r'../MedWeb_TestCollection/NTCIR-13_MedWeb_ja_test.xlsx'\n",
    "org_train = pd.read_excel(train_file,sheet_name =  'ja_train')\n",
    "org_test = pd.read_excel(test_file,sheet_name=\"ja_test\")\n",
    "original_df = pd.concat([org_train, org_test], axis=0,ignore_index=True)"
   ]
  },
  {
   "cell_type": "code",
   "execution_count": null,
   "metadata": {},
   "outputs": [],
   "source": [
    "original_tweet_set = set(list(original_df['Tweet']))"
   ]
  },
  {
   "cell_type": "code",
   "execution_count": null,
   "metadata": {},
   "outputs": [],
   "source": [
    "def replace_original(x):\n",
    "    if x in original_tweet_set:\n",
    "        return 'inoriginal'\n",
    "    else:\n",
    "        return x"
   ]
  },
  {
   "cell_type": "code",
   "execution_count": null,
   "metadata": {},
   "outputs": [],
   "source": [
    "body_index_df['generated_tweet'] = body_index_df['generated_tweet'].map(lambda x:replace_original(x))"
   ]
  },
  {
   "cell_type": "code",
   "execution_count": null,
   "metadata": {},
   "outputs": [],
   "source": [
    "subtracted_df = body_index_df[body_index_df['generated_tweet'] != 'inoriginal']\n",
    "in_original_df = body_index_df[body_index_df['generated_tweet'] == 'inoriginal']"
   ]
  },
  {
   "cell_type": "code",
   "execution_count": null,
   "metadata": {},
   "outputs": [],
   "source": [
    "subtracted_df = subtracted_df.sample(n=len(org_train))"
   ]
  },
  {
   "cell_type": "code",
   "execution_count": null,
   "metadata": {},
   "outputs": [],
   "source": [
    "in_original_df[300:]"
   ]
  },
  {
   "cell_type": "code",
   "execution_count": null,
   "metadata": {},
   "outputs": [],
   "source": [
    "def id2label(id):\n",
    "    return list(bit_pattrns[id])"
   ]
  },
  {
   "cell_type": "code",
   "execution_count": null,
   "metadata": {},
   "outputs": [],
   "source": [
    "subtracted_df['id'] = subtracted_df['id'].map(lambda x:id2label(x))"
   ]
  },
  {
   "cell_type": "code",
   "execution_count": null,
   "metadata": {},
   "outputs": [],
   "source": [
    "final_df = pd.DataFrame({'Tweet':subtracted_df['generated_tweet'], 'labels':subtracted_df['id']})"
   ]
  },
  {
   "cell_type": "code",
   "execution_count": null,
   "metadata": {},
   "outputs": [],
   "source": [
    "print(generation_result)"
   ]
  },
  {
   "cell_type": "code",
   "execution_count": null,
   "metadata": {},
   "outputs": [],
   "source": [
    "import pickle\n",
    "with open(generation_result,'wb') as f:\n",
    "    pickle.dump(final_df,f)"
   ]
  },
  {
   "cell_type": "markdown",
   "metadata": {},
   "source": [
    "以下、例の生成"
   ]
  },
  {
   "cell_type": "code",
   "execution_count": null,
   "metadata": {},
   "outputs": [],
   "source": [
    "import pickle\n",
    "generation_result = 'generated_text/generation_result1.pickle'\n",
    "file = generation_result\n",
    "with open(file, 'rb') as f:\n",
    "    train_df = pickle.load(f)"
   ]
  },
  {
   "cell_type": "code",
   "execution_count": null,
   "metadata": {},
   "outputs": [],
   "source": [
    "list(train_df['Tweet'])"
   ]
  },
  {
   "cell_type": "code",
   "execution_count": null,
   "metadata": {},
   "outputs": [],
   "source": [
    "train_df.head()"
   ]
  },
  {
   "cell_type": "code",
   "execution_count": null,
   "metadata": {},
   "outputs": [],
   "source": [
    "train_df['labels'] = train_df['labels'].map(lambda x:str(x))"
   ]
  },
  {
   "cell_type": "code",
   "execution_count": null,
   "metadata": {},
   "outputs": [],
   "source": [
    "p = str(list(bit_pattrns[0]))"
   ]
  },
  {
   "cell_type": "code",
   "execution_count": null,
   "metadata": {},
   "outputs": [],
   "source": [
    "train_df[train_df['labels'] == p]"
   ]
  },
  {
   "cell_type": "code",
   "execution_count": null,
   "metadata": {},
   "outputs": [],
   "source": [
    "gen_texts = []\n",
    "bit_pattrns = [[0,1,0,0,0,0,0,0],[0,0,0,0,0,1,0,0],[0,0,0,0,0,0,1,0]]\n",
    "for b in bit_pattrns:\n",
    "    p = str(list(b))\n",
    "    d = train_df[train_df['labels'] == p]\n",
    "    if len(d) > 10:\n",
    "        texts = d.sample(n=10)\n",
    "        gen_texts.append(texts)"
   ]
  },
  {
   "cell_type": "code",
   "execution_count": null,
   "metadata": {},
   "outputs": [],
   "source": [
    "print('\\n'.join(gen_texts[2]['Tweet']))"
   ]
  },
  {
   "cell_type": "code",
   "execution_count": null,
   "metadata": {},
   "outputs": [],
   "source": [
    "import pickle\n",
    "file = r'../generation_model/generated_text/generation_result2.pickle'\n",
    "with open(file, 'rb') as f:\n",
    "    train_df = pickle.load(f)"
   ]
  },
  {
   "cell_type": "markdown",
   "metadata": {},
   "source": []
  },
  {
   "cell_type": "code",
   "execution_count": 2,
   "metadata": {},
   "outputs": [],
   "source": [
    "import pickle \n",
    "with open('generated_text2/インスリンgenerated_text2.pickle','rb') as f:\n",
    "    texts = pickle.load(f)"
   ]
  },
  {
   "cell_type": "code",
   "execution_count": null,
   "metadata": {},
   "outputs": [],
   "source": []
  }
 ],
 "metadata": {
  "interpreter": {
   "hash": "10f61efe537547c419192068959cb685a3c23e53629f77839160ffa427142656"
  },
  "kernelspec": {
   "display_name": "Python 3.8.13 ('topicdynamics')",
   "language": "python",
   "name": "python3"
  },
  "language_info": {
   "codemirror_mode": {
    "name": "ipython",
    "version": 3
   },
   "file_extension": ".py",
   "mimetype": "text/x-python",
   "name": "python",
   "nbconvert_exporter": "python",
   "pygments_lexer": "ipython3",
   "version": "3.8.13"
  },
  "orig_nbformat": 4
 },
 "nbformat": 4,
 "nbformat_minor": 2
}
