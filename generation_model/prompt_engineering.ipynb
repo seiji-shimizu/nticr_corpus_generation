{
 "cells": [
  {
   "cell_type": "code",
   "execution_count": 1,
   "metadata": {},
   "outputs": [
    {
     "name": "stderr",
     "output_type": "stream",
     "text": [
      "Some weights of the model checkpoint at cl-tohoku/bert-base-japanese-char were not used when initializing BertModel: ['cls.predictions.transform.dense.weight', 'cls.predictions.decoder.weight', 'cls.predictions.transform.LayerNorm.weight', 'cls.seq_relationship.bias', 'cls.predictions.bias', 'cls.predictions.transform.LayerNorm.bias', 'cls.predictions.transform.dense.bias', 'cls.seq_relationship.weight']\n",
      "- This IS expected if you are initializing BertModel from the checkpoint of a model trained on another task or with another architecture (e.g. initializing a BertForSequenceClassification model from a BertForPreTraining model).\n",
      "- This IS NOT expected if you are initializing BertModel from the checkpoint of a model that you expect to be exactly identical (initializing a BertForSequenceClassification model from a BertForSequenceClassification model).\n",
      "use Dict normalizer\n"
     ]
    }
   ],
   "source": [
    "import random\n",
    "from tqdm import tqdm\n",
    "import pandas as pd\n",
    "from prompt_design import design0\n",
    "import pandas as pd\n",
    "import re\n",
    "data_dir = 'generation_data2/'\n"
   ]
  },
  {
   "cell_type": "code",
   "execution_count": 2,
   "metadata": {},
   "outputs": [],
   "source": [
    "df_org = pd.read_csv('../data/tweet_hyakuyaku_processed.csv')"
   ]
  },
  {
   "cell_type": "code",
   "execution_count": 3,
   "metadata": {},
   "outputs": [
    {
     "data": {
      "text/plain": [
       "array(['ステロイド', 'インスリン', '抗生剤', 'プレドニゾロン', '抗菌薬', 'ヘパリン', '利尿剤', 'プレドニン',\n",
       "       '補液', 'ステロイドパルス', 'ワーファリン', 'アルドステロン', 'コルチゾール', 'シクロスポリン',\n",
       "       '免疫抑制剤', 'アルブミン', 'アミオダロン', 'ＳＴ合剤', '利尿薬', 'カテコラミン', '抗結核薬',\n",
       "       '抗生物質', 'メチルプレドニゾロン', 'アスピリン', '造影剤', 'フロセミド', 'デキサメサゾン', 'ワルファリン',\n",
       "       'アシクロビル', 'タクロリムス', 'リツキシマブ', '降圧薬', 'ヒドロコルチゾン', 'メサラジン',\n",
       "       '免疫グロブリン', 'チアマゾール', '抗血小板薬', 'イマチニブ', 'グルカゴン', 'γグロブリン', 'トルバプタン',\n",
       "       '強化インスリン', '降圧剤', 'インターフェロン', 'インフリキシマブ', 'シクロホスファミド', 'メトトレキサート',\n",
       "       'メロペネム', 'メトホルミン', 'バンコマイシン', 'ミノサイクリン', 'アザチオプリン', 'シスプラチン',\n",
       "       'ウロキナーゼ', 'グリメピリド', 'デキサメタゾン', 'セフトリアキソン', 'メトロニダゾール', '抗菌剤', '輸液',\n",
       "       'リバビリン', 'アルガトロバン', 'シクロフォスファミド', 'ガンシクロビル', 'ステロイド剤', 'ノルアドレナリン',\n",
       "       '抗凝固薬', 'コルヒチン'], dtype=object)"
      ]
     },
     "execution_count": 3,
     "metadata": {},
     "output_type": "execute_result"
    }
   ],
   "source": [
    "df_org['query'].unique()"
   ]
  },
  {
   "cell_type": "code",
   "execution_count": 7,
   "metadata": {},
   "outputs": [
    {
     "data": {
      "text/html": [
       "<div>\n",
       "<style scoped>\n",
       "    .dataframe tbody tr th:only-of-type {\n",
       "        vertical-align: middle;\n",
       "    }\n",
       "\n",
       "    .dataframe tbody tr th {\n",
       "        vertical-align: top;\n",
       "    }\n",
       "\n",
       "    .dataframe thead th {\n",
       "        text-align: right;\n",
       "    }\n",
       "</style>\n",
       "<table border=\"1\" class=\"dataframe\">\n",
       "  <thead>\n",
       "    <tr style=\"text-align: right;\">\n",
       "      <th></th>\n",
       "      <th>Unnamed: 0</th>\n",
       "      <th>full_text</th>\n",
       "      <th>query</th>\n",
       "    </tr>\n",
       "  </thead>\n",
       "  <tbody>\n",
       "    <tr>\n",
       "      <th>0</th>\n",
       "      <td>1</td>\n",
       "      <td>'@cyocyo_cyocyo 今回のラグオリパスでちょっとやる気が出たからぼちぼちやってい...</td>\n",
       "      <td>ステロイド</td>\n",
       "    </tr>\n",
       "    <tr>\n",
       "      <th>1</th>\n",
       "      <td>7</td>\n",
       "      <td>'SAIDs 出来【デキサメサゾン】杉くんの、ゆめ散る【メチルプレドニゾロン】プレ【プレドニ...</td>\n",
       "      <td>ステロイド</td>\n",
       "    </tr>\n",
       "    <tr>\n",
       "      <th>2</th>\n",
       "      <td>10</td>\n",
       "      <td>'それに、ステロイドで酒さになってるのになんでステロイドだすの、お医者さん、、。'</td>\n",
       "      <td>ステロイド</td>\n",
       "    </tr>\n",
       "    <tr>\n",
       "      <th>3</th>\n",
       "      <td>14</td>\n",
       "      <td>'年明け早々、グリーンピールするか皮膚科でも1回みてもらうか迷う| ε:)_\\n去年はグリー...</td>\n",
       "      <td>ステロイド</td>\n",
       "    </tr>\n",
       "    <tr>\n",
       "      <th>4</th>\n",
       "      <td>15</td>\n",
       "      <td>'いわゆるアメコミのヒーローらは全てが『筋骨隆々』であり、星条旗の前で逞しい胸を張るスーパー...</td>\n",
       "      <td>ステロイド</td>\n",
       "    </tr>\n",
       "  </tbody>\n",
       "</table>\n",
       "</div>"
      ],
      "text/plain": [
       "   Unnamed: 0                                          full_text  query\n",
       "0           1  '@cyocyo_cyocyo 今回のラグオリパスでちょっとやる気が出たからぼちぼちやってい...  ステロイド\n",
       "1           7  'SAIDs 出来【デキサメサゾン】杉くんの、ゆめ散る【メチルプレドニゾロン】プレ【プレドニ...  ステロイド\n",
       "2          10          'それに、ステロイドで酒さになってるのになんでステロイドだすの、お医者さん、、。'  ステロイド\n",
       "3          14  '年明け早々、グリーンピールするか皮膚科でも1回みてもらうか迷う| ε:)_\\n去年はグリー...  ステロイド\n",
       "4          15  'いわゆるアメコミのヒーローらは全てが『筋骨隆々』であり、星条旗の前で逞しい胸を張るスーパー...  ステロイド"
      ]
     },
     "execution_count": 7,
     "metadata": {},
     "output_type": "execute_result"
    }
   ],
   "source": [
    "df_org.head()"
   ]
  },
  {
   "cell_type": "code",
   "execution_count": 8,
   "metadata": {},
   "outputs": [],
   "source": [
    "prompt_list, target_list = design0(df_org)\n",
    "df4data = pd.DataFrame({'Target':target_list,'Prompt':prompt_list})\n",
    "df4data.to_csv(data_dir+\"data.csv\",index = None, header=True)"
   ]
  },
  {
   "cell_type": "code",
   "execution_count": null,
   "metadata": {},
   "outputs": [],
   "source": [
    "prompt_list[0]"
   ]
  },
  {
   "cell_type": "code",
   "execution_count": 29,
   "metadata": {},
   "outputs": [],
   "source": [
    "df4data['Target'] = df4data['Target'].map(lambda x:re.sub(r'@[0-9a-zA-Z_:]*','<user_name>',x))"
   ]
  },
  {
   "cell_type": "code",
   "execution_count": 32,
   "metadata": {},
   "outputs": [],
   "source": [
    "df4data.to_csv(data_dir+'data.csv')"
   ]
  },
  {
   "cell_type": "code",
   "execution_count": 33,
   "metadata": {},
   "outputs": [],
   "source": [
    "all_data = []"
   ]
  },
  {
   "cell_type": "code",
   "execution_count": 34,
   "metadata": {},
   "outputs": [],
   "source": [
    "t_s = zip(list(df4data['Target']),list(df4data['Prompt']))\n",
    "for t,s in t_s:\n",
    "    data = {}\n",
    "    if isinstance(t,str) and isinstance(s,str):\n",
    "        data['Target'] = t.replace('\\n',' ')\n",
    "        data['Prompt'] = s.replace('\\n',' ')\n",
    "        all_data.append(data)    \n",
    "    else:\n",
    "        pass"
   ]
  },
  {
   "cell_type": "code",
   "execution_count": 35,
   "metadata": {},
   "outputs": [],
   "source": [
    "import random\n",
    "random.seed(1234)\n",
    "random.shuffle(all_data)\n",
    "\n",
    "def to_line(data):\n",
    "    Target = data[\"Target\"]\n",
    "    prompt = data[\"Prompt\"]\n",
    "    assert len(Target) > 0 and len(prompt)\n",
    "    return f\"{Target}\\t{prompt}\\n\""
   ]
  },
  {
   "cell_type": "code",
   "execution_count": 36,
   "metadata": {},
   "outputs": [
    {
     "name": "stderr",
     "output_type": "stream",
     "text": [
      "441152it [00:01, 371386.51it/s]\n"
     ]
    }
   ],
   "source": [
    "data_size = len(all_data)\n",
    "train_ratio, dev_ratio, test_ratio = 0.9, 0.05, 0.05\n",
    "with open(data_dir+\"train.tsv\", \"w\", encoding=\"utf-8\") as f_train, \\\n",
    "open(data_dir+\"dev.tsv\", \"w\", encoding=\"utf-8\") as f_dev, \\\n",
    "    open(data_dir+\"test.tsv\", \"w\", encoding=\"utf-8\") as f_test:\n",
    "    for i, data in tqdm(enumerate(all_data)):\n",
    "        line = to_line(data)\n",
    "        if i < train_ratio * data_size:\n",
    "            f_train.write(line)\n",
    "        elif i < (train_ratio + dev_ratio) * data_size:\n",
    "            f_dev.write(line)\n",
    "        else:\n",
    "            f_test.write(line)"
   ]
  },
  {
   "cell_type": "code",
   "execution_count": null,
   "metadata": {},
   "outputs": [],
   "source": [
    "from medner_j import Ner\n",
    "\n",
    "sents = [\n",
    "  \"それぞれの関節に関節液貯留は見られなかった\",\n",
    "  \"その後、左半身麻痺、ＣＴにて右前側頭葉の出血を認める。\"\n",
    "  ]\n",
    "\n",
    "model = Ner.from_pretrained(model_name=\"BERT\", normalizer=\"dict\")\n",
    "results = model.predict(sents)\n",
    "print(results)"
   ]
  },
  {
   "cell_type": "code",
   "execution_count": null,
   "metadata": {},
   "outputs": [],
   "source": [
    "results2 = model.predict(sents)\n",
    "print(results2)"
   ]
  },
  {
   "cell_type": "code",
   "execution_count": null,
   "metadata": {},
   "outputs": [],
   "source": [
    "'</C>' in results2[1] or '</CN>' in results2[1]"
   ]
  },
  {
   "cell_type": "code",
   "execution_count": 19,
   "metadata": {},
   "outputs": [
    {
     "data": {
      "text/html": [
       "<div>\n",
       "<style scoped>\n",
       "    .dataframe tbody tr th:only-of-type {\n",
       "        vertical-align: middle;\n",
       "    }\n",
       "\n",
       "    .dataframe tbody tr th {\n",
       "        vertical-align: top;\n",
       "    }\n",
       "\n",
       "    .dataframe thead th {\n",
       "        text-align: right;\n",
       "    }\n",
       "</style>\n",
       "<table border=\"1\" class=\"dataframe\">\n",
       "  <thead>\n",
       "    <tr style=\"text-align: right;\">\n",
       "      <th></th>\n",
       "      <th>Target</th>\n",
       "      <th>Prompt</th>\n",
       "    </tr>\n",
       "  </thead>\n",
       "  <tbody>\n",
       "    <tr>\n",
       "      <th>0</th>\n",
       "      <td>&lt;extra_id_0&gt;'No.1-1\\n・16歳未満\\n・原因不明の慢性関節炎\\n・弛緩熱...</td>\n",
       "      <td>ステロイド使用のTweetは？&lt;extra_id_0&gt;</td>\n",
       "    </tr>\n",
       "    <tr>\n",
       "      <th>1</th>\n",
       "      <td>&lt;extra_id_0&gt;'ステロイド服用してるけど食欲が本当に増える。浮腫みで太るって人いる...</td>\n",
       "      <td>ステロイド使用のTweetは？&lt;extra_id_0&gt;</td>\n",
       "    </tr>\n",
       "    <tr>\n",
       "      <th>2</th>\n",
       "      <td>&lt;extra_id_0&gt;'9時から参拝、10時からバイトだけど朝までアレルギーで鼻ずるずる、...</td>\n",
       "      <td>ステロイド使用のTweetは？&lt;extra_id_0&gt;</td>\n",
       "    </tr>\n",
       "    <tr>\n",
       "      <th>3</th>\n",
       "      <td>&lt;extra_id_0&gt;'ステロイドを塗ると皮膚が黒くなるの？\\n皮膚が色素沈着を起こすのは...</td>\n",
       "      <td>ステロイド使用のTweetは？&lt;extra_id_0&gt;</td>\n",
       "    </tr>\n",
       "    <tr>\n",
       "      <th>4</th>\n",
       "      <td>&lt;extra_id_0&gt;'唇の端が切れたりする症状である口角炎は、ビタミン不足や細菌やカビの...</td>\n",
       "      <td>ステロイド使用のTweetは？&lt;extra_id_0&gt;</td>\n",
       "    </tr>\n",
       "  </tbody>\n",
       "</table>\n",
       "</div>"
      ],
      "text/plain": [
       "                                              Target  \\\n",
       "0  <extra_id_0>'No.1-1\\n・16歳未満\\n・原因不明の慢性関節炎\\n・弛緩熱...   \n",
       "1  <extra_id_0>'ステロイド服用してるけど食欲が本当に増える。浮腫みで太るって人いる...   \n",
       "2  <extra_id_0>'9時から参拝、10時からバイトだけど朝までアレルギーで鼻ずるずる、...   \n",
       "3  <extra_id_0>'ステロイドを塗ると皮膚が黒くなるの？\\n皮膚が色素沈着を起こすのは...   \n",
       "4  <extra_id_0>'唇の端が切れたりする症状である口角炎は、ビタミン不足や細菌やカビの...   \n",
       "\n",
       "                        Prompt  \n",
       "0  ステロイド使用のTweetは？<extra_id_0>  \n",
       "1  ステロイド使用のTweetは？<extra_id_0>  \n",
       "2  ステロイド使用のTweetは？<extra_id_0>  \n",
       "3  ステロイド使用のTweetは？<extra_id_0>  \n",
       "4  ステロイド使用のTweetは？<extra_id_0>  "
      ]
     },
     "execution_count": 19,
     "metadata": {},
     "output_type": "execute_result"
    }
   ],
   "source": [
    "df4data.head()"
   ]
  },
  {
   "cell_type": "code",
   "execution_count": null,
   "metadata": {},
   "outputs": [],
   "source": []
  }
 ],
 "metadata": {
  "interpreter": {
   "hash": "10f61efe537547c419192068959cb685a3c23e53629f77839160ffa427142656"
  },
  "kernelspec": {
   "display_name": "Python 3.8.13 ('topicdynamics')",
   "language": "python",
   "name": "python3"
  },
  "language_info": {
   "codemirror_mode": {
    "name": "ipython",
    "version": 3
   },
   "file_extension": ".py",
   "mimetype": "text/x-python",
   "name": "python",
   "nbconvert_exporter": "python",
   "pygments_lexer": "ipython3",
   "version": "3.7.13"
  },
  "orig_nbformat": 4
 },
 "nbformat": 4,
 "nbformat_minor": 2
}
